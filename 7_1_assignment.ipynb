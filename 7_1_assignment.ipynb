{
  "cells": [
    {
      "cell_type": "markdown",
      "metadata": {
        "id": "view-in-github",
        "colab_type": "text"
      },
      "source": [
        "<a href=\"https://colab.research.google.com/github/mshchurska/bot_for_twitter/blob/master/7_1_assignment.ipynb\" target=\"_parent\"><img src=\"https://colab.research.google.com/assets/colab-badge.svg\" alt=\"Open In Colab\"/></a>"
      ]
    },
    {
      "cell_type": "markdown",
      "metadata": {
        "id": "K-xXkt9Ztf7J"
      },
      "source": [
        "# Assignment 7.1\n",
        "\n",
        "> Replace all TODOs with your code.\n",
        ">\n",
        "> Do not change any other code and do not add/remove cells!"
      ]
    },
    {
      "cell_type": "code",
      "execution_count": 11,
      "metadata": {
        "id": "sGdc6BbbALg9"
      },
      "outputs": [],
      "source": [
        "# Do not edit this cell\n",
        "\n",
        "from typing import List, Dict\n",
        "import requests"
      ]
    },
    {
      "cell_type": "markdown",
      "metadata": {
        "id": "cfhcjaX0vXXa"
      },
      "source": [
        "## Clients"
      ]
    },
    {
      "cell_type": "markdown",
      "metadata": {
        "id": "Vlz14hyr6wV6"
      },
      "source": [
        "### Task 1\n",
        "\n",
        "Write a function that takes a GitHub repository name as input and uses the [GitHub Repository API](https://docs.github.com/en/rest/repos) to retrieve and return information about the specified repository, including:\n",
        "\n",
        "* Repository Name\n",
        "* Owner\n",
        "* Description\n",
        "* License (if available)\n",
        "* Creation Date\n",
        "\n",
        "Use the `requests` module for this task."
      ]
    },
    {
      "cell_type": "code",
      "execution_count": 33,
      "metadata": {
        "id": "vDYn-dRb7xIX",
        "colab": {
          "base_uri": "https://localhost:8080/"
        },
        "outputId": "2b66f7f6-3bc9-4738-f350-56eb7b082c12"
      },
      "outputs": [
        {
          "output_type": "stream",
          "name": "stdout",
          "text": [
            "{'Repository Name': 'mariia_shchurska', 'Owner': 'mshchurska', 'Description': None, 'License': 'No license', 'Creation Date': '2025-01-27T16:57:01Z'}\n"
          ]
        }
      ],
      "source": [
        "\n",
        "def get_repository_info(repo_name: str) -> Dict[str, str]:\n",
        "    url = f\"https://api.github.com/repos/{repo_name}\"\n",
        "    response = requests.get(url)\n",
        "\n",
        "    repo_data = response.json()\n",
        "\n",
        "    return {\n",
        "        \"Repository Name\": repo_data.get(\"name\", \"N/A\"),\n",
        "        \"Owner\": repo_data.get(\"owner\", {}).get(\"login\", \"N/A\") if repo_data.get(\"owner\") else \"N/A\",\n",
        "        \"Description\": repo_data.get(\"description\", \"N/A\"),\n",
        "        \"License\": repo_data.get(\"license\", {}).get(\"name\", \"No license\") if repo_data.get(\"license\") else \"No license\",\n",
        "        \"Creation Date\": repo_data.get(\"created_at\", \"N/A\"),\n",
        "    }\n",
        "\n",
        "repo_info = get_repository_info(\"mshchurska/mariia_shchurska\")\n",
        "print(repo_info)"
      ]
    },
    {
      "cell_type": "code",
      "source": [],
      "metadata": {
        "id": "GXCbRxMNCTAl"
      },
      "execution_count": 33,
      "outputs": []
    },
    {
      "cell_type": "markdown",
      "metadata": {
        "id": "0TC34gv79VEo"
      },
      "source": [
        "### Task 2\n",
        "\n",
        "Write a function that takes a GitHub repository name and uses the [GitHub Commits API](https://docs.github.com/en/rest/commits/commits) to retrieve and return information about the five most recent commits in a selected GitHub repository, including:\n",
        "* Commit Message\n",
        "* Author\n",
        "* Date\n",
        "* Link to the commit on GitHub\n",
        "\n",
        "Use the `requests` module for this task."
      ]
    },
    {
      "cell_type": "code",
      "execution_count": 59,
      "metadata": {
        "id": "Kf2284dT-atu",
        "colab": {
          "base_uri": "https://localhost:8080/"
        },
        "outputId": "17534cbe-0a54-48ae-a024-f3256784b1ff"
      },
      "outputs": [
        {
          "output_type": "stream",
          "name": "stdout",
          "text": [
            "[{'Commit Message': 'Add read me', 'Author': 'Mariia Shchurska', 'Date': '2025-03-04T20:02:58Z', 'Commit URL': 'https://github.com/mshchurska/mariia_shchurska/commit/38f6ed1494c340f29610931fcacf35abcb07d498'}, {'Commit Message': 'Add read me', 'Author': 'Mariia Shchurska', 'Date': '2025-03-04T20:00:22Z', 'Commit URL': 'https://github.com/mshchurska/mariia_shchurska/commit/3784d36abccce6aa053cf8603fd5d48210004e96'}, {'Commit Message': 'Merge pull request #2 from mshchurska/feat-div\\n\\nAdd devision', 'Author': 'mshchurska', 'Date': '2025-03-04T19:54:59Z', 'Commit URL': 'https://github.com/mshchurska/mariia_shchurska/commit/5593ad6ba194faec1a6f1eada88f4d46dadd2a91'}, {'Commit Message': 'Add devision', 'Author': 'Mariia Shchurska', 'Date': '2025-03-04T19:54:36Z', 'Commit URL': 'https://github.com/mshchurska/mariia_shchurska/commit/035da240c1080889218f105110b99002ef85261a'}, {'Commit Message': 'Merge pull request #1 from mshchurska/feat-mul\\n\\nAdd multiply', 'Author': 'mshchurska', 'Date': '2025-03-04T19:51:28Z', 'Commit URL': 'https://github.com/mshchurska/mariia_shchurska/commit/a0f8f676ec3d9e4bcfde5f58afee2f039b485d61'}]\n"
          ]
        }
      ],
      "source": [
        "def get_recent_commits(repo_name: str) -> List[Dict[str, str]]:\n",
        "    url = f\"https://api.github.com/repos/{repo_name}/commits\"\n",
        "    response = requests.get(url)\n",
        "\n",
        "    repo_data = response.json()[:5]\n",
        "    commits=[]\n",
        "\n",
        "    for i in repo_data:\n",
        "      commits.append({\n",
        "          \"Commit Message\": i.get(\"commit\", {}).get(\"message\", \"N/A\"),\n",
        "          \"Author\": i.get(\"commit\", {}).get(\"author\", {}).get(\"name\", \"N/A\"),\n",
        "          \"Date\": i.get(\"commit\", {}).get(\"author\", {}).get(\"date\", \"N/A\"),\n",
        "          \"Commit URL\": i.get(\"html_url\", \"N/A\"),\n",
        "        })\n",
        "    return commits\n",
        "\n",
        "#repo_info=get_recent_commits(\"octocat/Hello-World\")\n",
        "repo_info=get_recent_commits(\"mshchurska/mariia_shchurska\")\n",
        "print(repo_info)"
      ]
    }
  ],
  "metadata": {
    "colab": {
      "provenance": [],
      "include_colab_link": true
    },
    "kernelspec": {
      "display_name": "Python 3",
      "name": "python3"
    },
    "language_info": {
      "name": "python"
    }
  },
  "nbformat": 4,
  "nbformat_minor": 0
}